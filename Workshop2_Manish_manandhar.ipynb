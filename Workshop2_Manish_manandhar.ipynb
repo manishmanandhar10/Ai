{
  "cells": [
    {
      "cell_type": "markdown",
      "metadata": {
        "id": "hBoveptiOiXV"
      },
      "source": [
        "# 3.1 Warming Up Exercises- Basic Inspection and Exploration:\n",
        "# Problem 1- Data Read, Write and Inspect:\n",
        "# Complete all following Task:\n",
        "# • Dataset for the Task: \"bank.csv"
      ]
    },
    {
      "cell_type": "markdown",
      "metadata": {
        "id": "g0BjhMhAOo1o"
      },
      "source": [
        "# 1. Load the provided dataset and import in pandas DataFrame."
      ]
    },
    {
      "cell_type": "code",
      "execution_count": null,
      "metadata": {
        "colab": {
          "base_uri": "https://localhost:8080/"
        },
        "id": "nI6DNaqPOpQF",
        "outputId": "e3777089-8a8e-4566-ce8b-65893b6fe6d7"
      },
      "outputs": [
        {
          "output_type": "stream",
          "name": "stdout",
          "text": [
            "   age           job   marital  education default  balance housing loan  \\\n",
            "0   58    management   married   tertiary      no     2143     yes   no   \n",
            "1   44    technician    single  secondary      no       29     yes   no   \n",
            "2   33  entrepreneur   married  secondary      no        2     yes  yes   \n",
            "3   47   blue-collar   married    unknown      no     1506     yes   no   \n",
            "4   33       unknown    single    unknown      no        1      no   no   \n",
            "5   35    management   married   tertiary      no      231     yes   no   \n",
            "6   28    management    single   tertiary      no      447     yes  yes   \n",
            "7   42  entrepreneur  divorced   tertiary     yes        2     yes   no   \n",
            "8   58       retired   married    primary      no      121     yes   no   \n",
            "9   43    technician    single  secondary      no      593     yes   no   \n",
            "\n",
            "   contact  day month  duration  campaign  pdays  previous poutcome   y  \n",
            "0  unknown    5   may       261         1     -1         0  unknown  no  \n",
            "1  unknown    5   may       151         1     -1         0  unknown  no  \n",
            "2  unknown    5   may        76         1     -1         0  unknown  no  \n",
            "3  unknown    5   may        92         1     -1         0  unknown  no  \n",
            "4  unknown    5   may       198         1     -1         0  unknown  no  \n",
            "5  unknown    5   may       139         1     -1         0  unknown  no  \n",
            "6  unknown    5   may       217         1     -1         0  unknown  no  \n",
            "7  unknown    5   may       380         1     -1         0  unknown  no  \n",
            "8  unknown    5   may        50         1     -1         0  unknown  no  \n",
            "9  unknown    5   may        55         1     -1         0  unknown  no  \n"
          ]
        }
      ],
      "source": [
        "import pandas as pd\n",
        "\n",
        "bank_fl = pd.read_csv('/content/sample_data/AI workshop2/bank .csv')\n",
        "print(bank_fl.head(10))"
      ]
    },
    {
      "cell_type": "markdown",
      "metadata": {
        "id": "bZ4FJH04Pn_r"
      },
      "source": [
        "# 2. Check info of the DataFrame and identify following:"
      ]
    },
    {
      "cell_type": "markdown",
      "metadata": {
        "id": "qouBbsQ0PrQO"
      },
      "source": [
        "# (a) columns with dtypes=object"
      ]
    },
    {
      "cell_type": "code",
      "execution_count": null,
      "metadata": {
        "colab": {
          "base_uri": "https://localhost:8080/"
        },
        "id": "XeBNYllzPrqe",
        "outputId": "c7883347-04a2-4521-96d7-acd825147d64"
      },
      "outputs": [
        {
          "output_type": "stream",
          "name": "stdout",
          "text": [
            "Columns with dtype=object: Index(['job', 'marital', 'education', 'default', 'housing', 'loan', 'contact',\n",
            "       'month', 'poutcome', 'y'],\n",
            "      dtype='object')\n"
          ]
        }
      ],
      "source": [
        "import pandas as pd\n",
        "\n",
        "file_path = pd.read_csv('/content/sample_data/AI workshop2/bank .csv')\n",
        "\n",
        "object_columns = file_path.select_dtypes(include = 'object').columns\n",
        "\n",
        "print(\"Columns with dtype=object:\", object_columns)\n"
      ]
    },
    {
      "cell_type": "markdown",
      "metadata": {
        "id": "uBdLOyZBqaso"
      },
      "source": [
        "# (b) unique values of those columns."
      ]
    },
    {
      "cell_type": "code",
      "execution_count": null,
      "metadata": {
        "colab": {
          "base_uri": "https://localhost:8080/"
        },
        "id": "5_M5jyfRqbXz",
        "outputId": "f5f8d763-1978-4d10-8fc8-59d52a8b79e6"
      },
      "outputs": [
        {
          "output_type": "stream",
          "name": "stdout",
          "text": [
            "Unique values in each column [58 44 33 47 35 28 42 43 41 29 53 57 51 45 60 56 32 25 40 39 52 46 36 49\n",
            " 59 37 50 54 55 48 24 38 31 30 27 34 23 26 61 22 21 20 66 62 83 75 67 70\n",
            " 65 68 64 69 72 71 19 76 85 63 90 82 73 74 78 80 94 79 77 86 95 81 18 89\n",
            " 84 87 92 93 88]\n",
            "Unique values in each column ['management' 'technician' 'entrepreneur' 'blue-collar' 'unknown'\n",
            " 'retired' 'admin.' 'services' 'self-employed' 'unemployed' 'housemaid'\n",
            " 'student']\n",
            "Unique values in each column ['married' 'single' 'divorced']\n",
            "Unique values in each column ['tertiary' 'secondary' 'unknown' 'primary']\n",
            "Unique values in each column ['no' 'yes']\n",
            "Unique values in each column [ 2143    29     2 ...  8205 14204 16353]\n",
            "Unique values in each column ['yes' 'no']\n",
            "Unique values in each column ['no' 'yes']\n",
            "Unique values in each column ['unknown' 'cellular' 'telephone']\n",
            "Unique values in each column [ 5  6  7  8  9 12 13 14 15 16 19 20 21 23 26 27 28 29 30  2  3  4 11 17\n",
            " 18 24 25  1 10 22 31]\n",
            "Unique values in each column ['may' 'jun' 'jul' 'aug' 'oct' 'nov' 'dec' 'jan' 'feb' 'mar' 'apr' 'sep']\n",
            "Unique values in each column [ 261  151   76 ... 1298 1246 1556]\n",
            "Unique values in each column [ 1  2  3  5  4  6  7  8  9 10 11 12 13 19 14 24 16 32 18 22 15 17 25 21\n",
            " 43 51 63 41 26 28 55 50 38 23 20 29 31 37 30 46 27 58 33 35 34 36 39 44]\n",
            "Unique values in each column [ -1 151 166  91  86 143 147  89 140 176 101 174 170 167 195 165 129 188\n",
            " 196 172 118 119 104 171 117 164 132 131 123 159 186 111 115 116 173 178\n",
            " 110 152  96 103 150 175 193 181 185 154 145 138 126 180 109 158 168  97\n",
            " 182 127 130 194 125 105 102  26 179  28 183 155 112 120 137 124 187 190\n",
            " 113 162 134 169 189   8 144 191 184 177   5  99 133  93  92  10 100 156\n",
            " 198 106 153 146 128   7 121 160 107  90  27 197 136 139 122 157 149 135\n",
            "  30 114  98 192 163  34  95 141  31 199  94 108  29 268 247 253 226 244\n",
            " 239 245 204 231 238 258 230 254 265  71 223 246 250 266 240 205 261 259\n",
            " 241 260 234 251 225 161 237 262 248 255 220 227 206 224 249 235 228 263\n",
            "   2 270 232 252 207 200 269 233 256 273 272 242 264 208 214 222 271 203\n",
            " 221 202 216 201 257 229 210 217  75 213  73  76 267 211 215  77 236  82\n",
            "   6 209 274   1 243 212 275  80 276   9 279  12 280  88 277  85  84 219\n",
            "  24  21 282  41 294  49 329 307 303 331 308 300  64 314 287 330 332 302\n",
            " 323 318 333  60 326 335 313 312 305 325 327 336 309 328 322  39 316 292\n",
            " 295 310 306 320 317 289  57 321 142 339 301 315 337 334 340 319  17  74\n",
            " 148 341 299 344 342 324 345 346 304 281 343 338  14 347  15 291 348 349\n",
            " 285 350 284  25 283 278  81   4  87  83  79  70  13 293  37  78  63  22\n",
            " 296 355  66  19  35 360 357 354 351 362 358 365 298 286 364 363  47 361\n",
            " 288 366 356 352 359 297 367 353 368  42 290  67 371 370 369  50  36 373\n",
            " 374 372 311 375 378  59 379  40  18  43  20  69  38 385  56  55  44 391\n",
            "  72 390  32  62 399 393  65 377 395 388 389 386  61 412 405 434 394 382\n",
            " 459 440 397 383  68 461 462 463 422  51 457 430 442 403 454 428 392 410\n",
            " 401 474 475 477 478  54 476 380 479  45  46 495  58  48 518  52 515 520\n",
            " 511 536 387 218  33 544 435 436 555 433 446 558 469 616 561 553 384 592\n",
            " 467 585 480 421 667 626 426 595 381 376 648 521 452 449 633 398  53 460\n",
            " 670 551 414 557 687 404 651 686 425 504 578 674 416 586 411 756 450 745\n",
            " 514 417 424 776 396 683 529 439 415 456 407 458 532 481 791 701 531 792\n",
            " 413 445 535 784 419 455 491 431 542 470 472 717 437   3 782 728 828 524\n",
            " 562 761 492 775 579 493 464 760 466 465 656 831 490 432 655 427 749 838\n",
            " 769 587 778 854 779 850 771 594 842 589 603 484 489 486 409 444 680 808\n",
            " 485 503 690 772 774 526 420 528 500 826 804 508 547 805 541 543 871 550\n",
            " 530]\n",
            "Unique values in each column [  0   3   1   4   2  11  16   6   5  10  12   7  18   9  21   8  14  15\n",
            "  26  37  13  25  20  27  17  23  38  29  24  51 275  22  19  30  58  28\n",
            "  32  40  55  35  41]\n",
            "Unique values in each column ['unknown' 'failure' 'other' 'success']\n",
            "Unique values in each column ['no' 'yes']\n"
          ]
        }
      ],
      "source": [
        "import pandas as pd\n",
        "file_path = pd.read_csv('/content/sample_data/AI workshop2/bank .csv')\n",
        "\n",
        "for column in file_path.columns:\n",
        "  unique_values = file_path[column].unique()\n",
        "  print(\"Unique values in each column\",unique_values )"
      ]
    },
    {
      "cell_type": "markdown",
      "metadata": {
        "id": "shIhVTugu0-l"
      },
      "source": [
        "# (c) check for the total number of null values in each column."
      ]
    },
    {
      "cell_type": "code",
      "execution_count": null,
      "metadata": {
        "colab": {
          "base_uri": "https://localhost:8080/"
        },
        "id": "1yNkM6Z0u1fp",
        "outputId": "56281768-5379-465a-84ca-dbb31181a7b7"
      },
      "outputs": [
        {
          "output_type": "stream",
          "name": "stdout",
          "text": [
            "<class 'pandas.core.frame.DataFrame'>\n",
            "RangeIndex: 45211 entries, 0 to 45210\n",
            "Data columns (total 17 columns):\n",
            " #   Column     Non-Null Count  Dtype \n",
            "---  ------     --------------  ----- \n",
            " 0   age        45211 non-null  int64 \n",
            " 1   job        45211 non-null  object\n",
            " 2   marital    45211 non-null  object\n",
            " 3   education  45211 non-null  object\n",
            " 4   default    45211 non-null  object\n",
            " 5   balance    45211 non-null  int64 \n",
            " 6   housing    45211 non-null  object\n",
            " 7   loan       45211 non-null  object\n",
            " 8   contact    45211 non-null  object\n",
            " 9   day        45211 non-null  int64 \n",
            " 10  month      45211 non-null  object\n",
            " 11  duration   45211 non-null  int64 \n",
            " 12  campaign   45211 non-null  int64 \n",
            " 13  pdays      45211 non-null  int64 \n",
            " 14  previous   45211 non-null  int64 \n",
            " 15  poutcome   45211 non-null  object\n",
            " 16  y          45211 non-null  object\n",
            "dtypes: int64(7), object(10)\n",
            "memory usage: 5.9+ MB\n",
            "None\n",
            "total number of null values in each column:\n",
            "\n",
            " <bound method DataFrame.sum of          age    job  marital  education  default  balance  housing   loan  \\\n",
            "0      False  False    False      False    False    False    False  False   \n",
            "1      False  False    False      False    False    False    False  False   \n",
            "2      False  False    False      False    False    False    False  False   \n",
            "3      False  False    False      False    False    False    False  False   \n",
            "4      False  False    False      False    False    False    False  False   \n",
            "...      ...    ...      ...        ...      ...      ...      ...    ...   \n",
            "45206  False  False    False      False    False    False    False  False   \n",
            "45207  False  False    False      False    False    False    False  False   \n",
            "45208  False  False    False      False    False    False    False  False   \n",
            "45209  False  False    False      False    False    False    False  False   \n",
            "45210  False  False    False      False    False    False    False  False   \n",
            "\n",
            "       contact    day  month  duration  campaign  pdays  previous  poutcome  \\\n",
            "0        False  False  False     False     False  False     False     False   \n",
            "1        False  False  False     False     False  False     False     False   \n",
            "2        False  False  False     False     False  False     False     False   \n",
            "3        False  False  False     False     False  False     False     False   \n",
            "4        False  False  False     False     False  False     False     False   \n",
            "...        ...    ...    ...       ...       ...    ...       ...       ...   \n",
            "45206    False  False  False     False     False  False     False     False   \n",
            "45207    False  False  False     False     False  False     False     False   \n",
            "45208    False  False  False     False     False  False     False     False   \n",
            "45209    False  False  False     False     False  False     False     False   \n",
            "45210    False  False  False     False     False  False     False     False   \n",
            "\n",
            "           y  \n",
            "0      False  \n",
            "1      False  \n",
            "2      False  \n",
            "3      False  \n",
            "4      False  \n",
            "...      ...  \n",
            "45206  False  \n",
            "45207  False  \n",
            "45208  False  \n",
            "45209  False  \n",
            "45210  False  \n",
            "\n",
            "[45211 rows x 17 columns]>\n"
          ]
        }
      ],
      "source": [
        "import pandas as pd\n",
        "file_path = pd.read_csv('/content/sample_data/AI workshop2/bank .csv')\n",
        "\n",
        "print(file_path.info())\n",
        "check_num = file_path.isnull().sum\n",
        "print(\"total number of null values in each column:\\n\\n\", check_num)"
      ]
    },
    {
      "cell_type": "markdown",
      "source": [
        "# 3.Drop all the columns with dtypes object and store in new DataFrame, also write the DataFrame in\n",
        "# ”.csv” with name ”banknumericdata.csv”"
      ],
      "metadata": {
        "id": "v6XkWLP3yLcf"
      }
    },
    {
      "cell_type": "code",
      "source": [
        "import pandas as pd\n",
        "\n",
        "file_path = pd.read_csv('/content/sample_data/AI workshop2/bank .csv')\n",
        "\n",
        "n_dtype = file_path.select_dtypes(exclude=['object'])\n",
        "n_dtype.to_csv('banknumericdata.csv', index = False)\n",
        "\n",
        "print(\"New DataFrame with numeric data has been saved as 'banknumericdata.csv\")"
      ],
      "metadata": {
        "colab": {
          "base_uri": "https://localhost:8080/"
        },
        "id": "mQa-HYI_yNsA",
        "outputId": "a3d26912-3e82-4675-a34c-d2c6a8830215"
      },
      "execution_count": null,
      "outputs": [
        {
          "output_type": "stream",
          "name": "stdout",
          "text": [
            "New DataFrame with numeric data has been saved as 'banknumericdata.csv\n"
          ]
        }
      ]
    },
    {
      "cell_type": "markdown",
      "source": [
        "# 4. Read ”banknumericdata.csv” and Find the summary statistics."
      ],
      "metadata": {
        "id": "UbRIHH0U1XFt"
      }
    },
    {
      "cell_type": "code",
      "source": [
        "import pandas as pd\n",
        "\n",
        "file_path = pd.read_csv('banknumericdata.csv')\n",
        "\n",
        "print(file_path.info())\n",
        "\n",
        "summary = file_path.describe()\n",
        "print(\"summary statistics:\\n\",summary)"
      ],
      "metadata": {
        "colab": {
          "base_uri": "https://localhost:8080/"
        },
        "id": "BJ2Iecaz1Xpf",
        "outputId": "7f3216cf-14f1-4f66-af5d-9e74120b0dd3"
      },
      "execution_count": null,
      "outputs": [
        {
          "output_type": "stream",
          "name": "stdout",
          "text": [
            "<class 'pandas.core.frame.DataFrame'>\n",
            "RangeIndex: 45211 entries, 0 to 45210\n",
            "Data columns (total 7 columns):\n",
            " #   Column    Non-Null Count  Dtype\n",
            "---  ------    --------------  -----\n",
            " 0   age       45211 non-null  int64\n",
            " 1   balance   45211 non-null  int64\n",
            " 2   day       45211 non-null  int64\n",
            " 3   duration  45211 non-null  int64\n",
            " 4   campaign  45211 non-null  int64\n",
            " 5   pdays     45211 non-null  int64\n",
            " 6   previous  45211 non-null  int64\n",
            "dtypes: int64(7)\n",
            "memory usage: 2.4 MB\n",
            "None\n",
            "summary statistics:\n",
            "                 age        balance           day      duration      campaign  \\\n",
            "count  45211.000000   45211.000000  45211.000000  45211.000000  45211.000000   \n",
            "mean      40.936210    1362.272058     15.806419    258.163080      2.763841   \n",
            "std       10.618762    3044.765829      8.322476    257.527812      3.098021   \n",
            "min       18.000000   -8019.000000      1.000000      0.000000      1.000000   \n",
            "25%       33.000000      72.000000      8.000000    103.000000      1.000000   \n",
            "50%       39.000000     448.000000     16.000000    180.000000      2.000000   \n",
            "75%       48.000000    1428.000000     21.000000    319.000000      3.000000   \n",
            "max       95.000000  102127.000000     31.000000   4918.000000     63.000000   \n",
            "\n",
            "              pdays      previous  \n",
            "count  45211.000000  45211.000000  \n",
            "mean      40.197828      0.580323  \n",
            "std      100.128746      2.303441  \n",
            "min       -1.000000      0.000000  \n",
            "25%       -1.000000      0.000000  \n",
            "50%       -1.000000      0.000000  \n",
            "75%       -1.000000      0.000000  \n",
            "max      871.000000    275.000000  \n"
          ]
        }
      ]
    },
    {
      "cell_type": "markdown",
      "source": [
        "# Problem 2- Data Imputations:\n",
        "\n",
        "# Complete all the following Task:\n",
        "\n",
        "# • Dataset for the Task: \"medical_student.csv\n",
        "\n",
        "# 1. Load the provided dataset and import in pandas DataFrame."
      ],
      "metadata": {
        "id": "LkS0_Icc2zw3"
      }
    },
    {
      "cell_type": "code",
      "source": [
        "import pandas as pd\n",
        "\n",
        "file_path = pd.read_csv('/content/sample_data/AI workshop2/medical_students_dataset.csv')\n",
        "print(file_path.head())"
      ],
      "metadata": {
        "colab": {
          "base_uri": "https://localhost:8080/"
        },
        "id": "GF_9rfo_253K",
        "outputId": "b3d471c4-6a31-485b-cc49-dbae1f424fcf"
      },
      "execution_count": null,
      "outputs": [
        {
          "output_type": "stream",
          "name": "stdout",
          "text": [
            "   Student ID   Age  Gender      Height     Weight Blood Type        BMI  \\\n",
            "0         1.0  18.0  Female  161.777924  72.354947          O  27.645835   \n",
            "1         2.0   NaN    Male  152.069157  47.630941          B        NaN   \n",
            "2         3.0  32.0  Female  182.537664  55.741083          A  16.729017   \n",
            "3         NaN  30.0    Male  182.112867  63.332207          B  19.096042   \n",
            "4         5.0  23.0  Female         NaN  46.234173          O        NaN   \n",
            "\n",
            "   Temperature  Heart Rate  Blood Pressure  Cholesterol Diabetes Smoking  \n",
            "0          NaN        95.0           109.0        203.0       No     NaN  \n",
            "1    98.714977        93.0           104.0        163.0       No      No  \n",
            "2    98.260293        76.0           130.0        216.0      Yes      No  \n",
            "3    98.839605        99.0           112.0        141.0       No     Yes  \n",
            "4    98.480008        95.0             NaN        231.0       No      No  \n"
          ]
        }
      ]
    },
    {
      "cell_type": "markdown",
      "source": [
        "## Check info of the DataFrame and identify column with missing (null) values."
      ],
      "metadata": {
        "id": "jP4Hy3sd7N3h"
      }
    },
    {
      "cell_type": "code",
      "source": [
        "import pandas as pd\n",
        "file_path = pd.read_csv('/content/sample_data/AI workshop2/medical_students_dataset.csv')\n",
        "print(file_path.info())\n",
        "\n",
        "missing_value = file_path.isnull().sum()\n",
        "missing_column = missing_value[missing_value>0]\n",
        "print(\"Columns with missing values:\\n\", missing_column)"
      ],
      "metadata": {
        "colab": {
          "base_uri": "https://localhost:8080/"
        },
        "id": "2aAuEVXS7PUL",
        "outputId": "b95b18f4-1718-4322-d345-081254d6c134"
      },
      "execution_count": null,
      "outputs": [
        {
          "output_type": "stream",
          "name": "stdout",
          "text": [
            "<class 'pandas.core.frame.DataFrame'>\n",
            "RangeIndex: 200000 entries, 0 to 199999\n",
            "Data columns (total 13 columns):\n",
            " #   Column          Non-Null Count   Dtype  \n",
            "---  ------          --------------   -----  \n",
            " 0   Student ID      180000 non-null  float64\n",
            " 1   Age             180000 non-null  float64\n",
            " 2   Gender          180000 non-null  object \n",
            " 3   Height          180000 non-null  float64\n",
            " 4   Weight          180000 non-null  float64\n",
            " 5   Blood Type      180000 non-null  object \n",
            " 6   BMI             180000 non-null  float64\n",
            " 7   Temperature     180000 non-null  float64\n",
            " 8   Heart Rate      180000 non-null  float64\n",
            " 9   Blood Pressure  180000 non-null  float64\n",
            " 10  Cholesterol     180000 non-null  float64\n",
            " 11  Diabetes        180000 non-null  object \n",
            " 12  Smoking         180000 non-null  object \n",
            "dtypes: float64(9), object(4)\n",
            "memory usage: 19.8+ MB\n",
            "None\n",
            "Columns with missing values:\n",
            " Student ID        20000\n",
            "Age               20000\n",
            "Gender            20000\n",
            "Height            20000\n",
            "Weight            20000\n",
            "Blood Type        20000\n",
            "BMI               20000\n",
            "Temperature       20000\n",
            "Heart Rate        20000\n",
            "Blood Pressure    20000\n",
            "Cholesterol       20000\n",
            "Diabetes          20000\n",
            "Smoking           20000\n",
            "dtype: int64\n"
          ]
        }
      ]
    },
    {
      "cell_type": "markdown",
      "source": [
        "# 3. For the column with missing values fill the values using various techniques we discussed above. Try to explain why did you select the particular methods for particular column."
      ],
      "metadata": {
        "id": "JGb-H1OJ83K5"
      }
    },
    {
      "cell_type": "markdown",
      "source": [
        "## Answer:\n",
        "\n",
        "## First, let's identify which columns have missing values and their respective counts:\n",
        "\n",
        "# 1. Age\n",
        "Method: Mean/Median Imputation\n",
        "\n",
        "Reason: Age is a continuous variable, and using the mean or median is suitable to maintain the overall distribution of ages. The median is preferred if the data has outliers.\n",
        "\n",
        "\n",
        "# 2. Height\n",
        "Method: Mean Imputation\n",
        "\n",
        "Reason: Similar to age, height is a continuous variable. The mean can be used unless there are significant outliers.\n",
        "\n",
        "\n",
        "# 3. Weight\n",
        "Method: Mean Imputation\n",
        "\n",
        "Reason: Weight is also a continuous variable, and using the mean helps to fill gaps without significantly skewing the data.\n",
        "\n",
        "\n",
        "\n",
        "# 4. Blood Type\n",
        "Method: Mode Imputation\n",
        "\n",
        "Reason: Blood type is categorical. The mode (most common value) is appropriate for filling missing values in categorical data.\n",
        "\n",
        "\n",
        "\n",
        "# 5. BMI\n",
        "Method: Mean Imputation\n",
        "\n",
        "Reason: BMI is a continuous variable, and filling with the mean maintains the average body mass index across records.\n",
        "\n",
        "\n",
        "\n",
        "# 6. Temperature\n",
        "Method: Mean Imputation\n",
        "\n",
        "Reason: Temperature is a continuous variable, and using the mean ensures that we do not distort the overall temperature readings.\n",
        "\n",
        "\n",
        "# 7. Heart Rate\n",
        "Method: Mean Imputation\n",
        "\n",
        "Reason: Heart rate is another continuous variable where mean imputation helps retain the average heart rate.\n",
        "\n",
        "\n",
        "\n",
        "# 8. Blood Pressure\n",
        "Method: Mean Imputation\n",
        "\n",
        "Reason: Blood pressure readings are continuous; hence, using the mean provides a reasonable estimate for missing values.\n",
        "\n",
        "\n",
        "\n",
        "# 9. Cholesterol\n",
        "Method: Mode Imputation\n",
        "\n",
        "Reason: Cholesterol levels are often categorized (e.g., normal, high), so using the mode is appropriate for categorical data.\n",
        "\n",
        "\n",
        "\n",
        "# 10. Diabetes\n",
        "Method: Mode Imputation\n",
        "\n",
        "Reason: Diabetes status is categorical (Yes/No), so filling with the mode maintains consistency with existing data.\n",
        "\n",
        "\n",
        "\n",
        "# 11. Smoking\n",
        "Method: Mode Imputation\n",
        "\n",
        "Reason: Smoking status is also categorical; hence, using mode ensures that we fill missing values based on the most common response.\n"
      ],
      "metadata": {
        "id": "mNKUt6H_6_65"
      }
    },
    {
      "cell_type": "markdown",
      "source": [
        "# 4. Check for any duplicate values present in Dataset and do necessary to manage the duplicate items.\n",
        "# {Hint: dataset.duplicated.sum()}"
      ],
      "metadata": {
        "id": "ey56dgxt8mv8"
      }
    },
    {
      "cell_type": "code",
      "source": [
        "import pandas as pd\n",
        "file_path = pd.read_csv('/content/sample_data/AI workshop2/medical_students_dataset.csv')\n",
        "# print(file_path.info())\n",
        "\n",
        "duplicat_count = file_path.duplicated().sum()\n",
        "print(\"total duplicate rows:\\n\", duplicat_count)\n",
        "\n",
        "dup_remove = file_path.drop_duplicates()\n",
        "dup_remove.to_csv('cleaned_medical_students_dataset.csv', index = False)\n",
        "\n",
        "print(f'New dataset shape after removing duplicates: {dup_remove.shape}')\n"
      ],
      "metadata": {
        "colab": {
          "base_uri": "https://localhost:8080/"
        },
        "id": "stVZJLdM8zOM",
        "outputId": "a26af803-1f37-41be-8b4e-8968291af3a0"
      },
      "execution_count": null,
      "outputs": [
        {
          "output_type": "stream",
          "name": "stdout",
          "text": [
            "total duplicate rows:\n",
            " 7644\n",
            "New dataset shape after removing duplicates: (192356, 13)\n"
          ]
        }
      ]
    },
    {
      "cell_type": "markdown",
      "source": [
        "# 3.2 Exercises- Data Cleaning and Transformations with ”Titanic Dataset”:\n",
        "# Dataset Used: \"titanic.csv\"\n",
        "\n",
        "# Problem- 1:\n",
        "# Create a DataFrame that is subsetted for the columns ’Name’, ’Pclass’, ’Sex’, ’Age’, ’Fare’, and ’Survived’.\n",
        "# Retain only those rows where ’Pclass’ is equal to 1, representing first-class passengers. What is the mean,\n",
        "# median, maximum value, and minimum value of the ’Fare’ column?"
      ],
      "metadata": {
        "id": "nZdecCUiHNzE"
      }
    },
    {
      "cell_type": "code",
      "source": [
        "import pandas as pd\n",
        "file_path = pd.read_csv('/content/sample_data/AI workshop2/Titanic-Dataset.csv')\n",
        "# print(file_path.info())\n",
        "\n",
        "# Subset for first-class passengers and relevant columns\n",
        "first_class = file_path[file_path['Pclass'] == 1][['Name', 'Pclass', 'Sex', 'Age', 'Fare', 'Survived']]\n",
        "\n",
        "# Calculate statistics for the 'Fare' column\n",
        "mean_fare = first_class['Fare'].mean()\n",
        "median_fare = first_class['Fare'].median()\n",
        "max_fare = first_class['Fare'].max()\n",
        "min_fare = first_class['Fare'].min()\n",
        "\n",
        "print(\"Mean Fare:\", mean_fare)\n",
        "print(\"Median Fare:\", median_fare)\n",
        "print(\"Maximum Fare:\", max_fare)\n",
        "print(\"Minimum Fare:\", min_fare)"
      ],
      "metadata": {
        "colab": {
          "base_uri": "https://localhost:8080/"
        },
        "id": "99n9vkd2HaWy",
        "outputId": "64cb1f1a-29b2-45a3-b0ca-6a8c89fcf40f"
      },
      "execution_count": null,
      "outputs": [
        {
          "output_type": "stream",
          "name": "stdout",
          "text": [
            "Mean Fare: 84.1546875\n",
            "Median Fare: 60.287499999999994\n",
            "Maximum Fare: 512.3292\n",
            "Minimum Fare: 0.0\n"
          ]
        }
      ]
    },
    {
      "cell_type": "markdown",
      "source": [
        "# Problem- 2:\n",
        "\n",
        "# How many null values are contained in the ’Age’ column in your subsetted DataFrame? Once you’ve found\n",
        "## this out, drop them from your DataFrame."
      ],
      "metadata": {
        "id": "KhKPCCwLKffv"
      }
    },
    {
      "cell_type": "code",
      "source": [
        "import pandas as pd\n",
        "file_path = pd.read_csv('/content/sample_data/AI workshop2/Titanic-Dataset.csv')\n",
        "\n",
        "first_class = file_path[file_path['Pclass'] == 1][['Name', 'Pclass', 'Sex', 'Age', 'Fare', 'Survived']]\n",
        "\n",
        "# Count null values in the 'Age' column\n",
        "null_age_count = first_class['Age'].isnull().sum()\n",
        "print(\"Number of null values in 'Age' column:\", null_age_count)\n",
        "\n",
        "# Drop rows with null values in the 'Age' column\n",
        "first_class_cleaned = first_class.dropna(subset=['Age'])\n",
        "\n",
        "# Print the cleaned DataFrame shape to confirm drops\n",
        "print(\"Shape of DataFrame after dropping nulls:\", first_class_cleaned.shape)"
      ],
      "metadata": {
        "colab": {
          "base_uri": "https://localhost:8080/"
        },
        "id": "8HTTyvfiKhse",
        "outputId": "710c50fe-042e-4ebb-ae47-25f38a3ed063"
      },
      "execution_count": null,
      "outputs": [
        {
          "output_type": "stream",
          "name": "stdout",
          "text": [
            "Number of null values in 'Age' column: 30\n",
            "Shape of DataFrame after dropping nulls: (186, 6)\n"
          ]
        }
      ]
    },
    {
      "cell_type": "markdown",
      "source": [
        "# Problem- 3:\n",
        "\n",
        "# The ’Embarked’ column in the Titanic dataset contains categorical data representing the ports of embarka\n",
        "# tion:\n",
        "# • ’C’ for Cherbourg\n",
        "# • ’Q’ for Queenstown\n",
        "# • ’S’ for Southampton"
      ],
      "metadata": {
        "id": "xrFKuZiBLbyM"
      }
    },
    {
      "cell_type": "markdown",
      "source": [
        "# Task:\n",
        "# 1. Use one-hot encoding to convert the ’Embarked’ column into separate binary columns (’Embarked C’,\n",
        "# ’Embarked Q’, ’Embarked S’)."
      ],
      "metadata": {
        "id": "wZOs1N85LkwF"
      }
    },
    {
      "cell_type": "code",
      "source": [
        "\n",
        "import pandas as pd\n",
        "\n",
        "# Load the dataset\n",
        "file_path = pd.read_csv('/content/sample_data/AI workshop2/Titanic-Dataset.csv')\n",
        "\n",
        "# Perform one-hot encoding on the 'Embarked' column\n",
        "embarked_dummies = pd.get_dummies(file_path['Embarked'], prefix='Embarked')\n",
        "\n",
        "# Concatenate the new one-hot encoded columns with the original DataFrame\n",
        "df_encoded = pd.concat([file_path, embarked_dummies], axis=1)\n",
        "\n",
        "# Optionally, drop the original 'Embarked' column if no longer needed\n",
        "df_encoded = df_encoded.drop('Embarked', axis=1)\n",
        "\n",
        "# Display the first few rows of the updated DataFrame\n",
        "print(df_encoded.head())"
      ],
      "metadata": {
        "colab": {
          "base_uri": "https://localhost:8080/"
        },
        "id": "59D104jhLmne",
        "outputId": "74d429bf-7c23-4291-c97e-b2d97affe088"
      },
      "execution_count": null,
      "outputs": [
        {
          "output_type": "stream",
          "name": "stdout",
          "text": [
            "   PassengerId  Survived  Pclass  \\\n",
            "0            1         0       3   \n",
            "1            2         1       1   \n",
            "2            3         1       3   \n",
            "3            4         1       1   \n",
            "4            5         0       3   \n",
            "\n",
            "                                                Name     Sex   Age  SibSp  \\\n",
            "0                            Braund, Mr. Owen Harris    male  22.0      1   \n",
            "1  Cumings, Mrs. John Bradley (Florence Briggs Th...  female  38.0      1   \n",
            "2                             Heikkinen, Miss. Laina  female  26.0      0   \n",
            "3       Futrelle, Mrs. Jacques Heath (Lily May Peel)  female  35.0      1   \n",
            "4                           Allen, Mr. William Henry    male  35.0      0   \n",
            "\n",
            "   Parch            Ticket     Fare Cabin  Embarked_C  Embarked_Q  Embarked_S  \n",
            "0      0         A/5 21171   7.2500   NaN       False       False        True  \n",
            "1      0          PC 17599  71.2833   C85        True       False       False  \n",
            "2      0  STON/O2. 3101282   7.9250   NaN       False       False        True  \n",
            "3      0            113803  53.1000  C123       False       False        True  \n",
            "4      0            373450   8.0500   NaN       False       False        True  \n"
          ]
        }
      ]
    },
    {
      "cell_type": "markdown",
      "source": [
        "# 2. Add these new columns to the original DataFrame."
      ],
      "metadata": {
        "id": "-EH1zVK4Ra7O"
      }
    },
    {
      "cell_type": "code",
      "source": [
        "import pandas as pd\n",
        "\n",
        "# Load the dataset\n",
        "df = pd.read_csv('/content/sample_data/AI workshop2/Titanic-Dataset.csv')\n",
        "\n",
        "# Perform one-hot encoding on the 'Embarked' column\n",
        "embarked_dummies = pd.get_dummies(df['Embarked'], prefix='Embarked')\n",
        "\n",
        "# Concatenate the new one-hot encoded columns with the original DataFrame\n",
        "df_with_embarked = pd.concat([df, embarked_dummies], axis=1)\n",
        "\n",
        "# Optionally, drop the original 'Embarked' column if no longer needed\n",
        "df_with_embarked = df_with_embarked.drop('Embarked', axis=1)\n",
        "\n",
        "# Display the first few rows of the updated DataFrame\n",
        "print(df_with_embarked.head())"
      ],
      "metadata": {
        "colab": {
          "base_uri": "https://localhost:8080/"
        },
        "id": "P4dGgzwzRl1o",
        "outputId": "e105df02-4131-458a-88b7-0130fb31fdbd"
      },
      "execution_count": null,
      "outputs": [
        {
          "output_type": "stream",
          "name": "stdout",
          "text": [
            "   PassengerId  Survived  Pclass  \\\n",
            "0            1         0       3   \n",
            "1            2         1       1   \n",
            "2            3         1       3   \n",
            "3            4         1       1   \n",
            "4            5         0       3   \n",
            "\n",
            "                                                Name     Sex   Age  SibSp  \\\n",
            "0                            Braund, Mr. Owen Harris    male  22.0      1   \n",
            "1  Cumings, Mrs. John Bradley (Florence Briggs Th...  female  38.0      1   \n",
            "2                             Heikkinen, Miss. Laina  female  26.0      0   \n",
            "3       Futrelle, Mrs. Jacques Heath (Lily May Peel)  female  35.0      1   \n",
            "4                           Allen, Mr. William Henry    male  35.0      0   \n",
            "\n",
            "   Parch            Ticket     Fare Cabin  Embarked_C  Embarked_Q  Embarked_S  \n",
            "0      0         A/5 21171   7.2500   NaN       False       False        True  \n",
            "1      0          PC 17599  71.2833   C85        True       False       False  \n",
            "2      0  STON/O2. 3101282   7.9250   NaN       False       False        True  \n",
            "3      0            113803  53.1000  C123       False       False        True  \n",
            "4      0            373450   8.0500   NaN       False       False        True  \n"
          ]
        }
      ]
    },
    {
      "cell_type": "markdown",
      "source": [
        "# 3. Drop the original ’Embarked’ column."
      ],
      "metadata": {
        "id": "0i3Zd8YWR0fD"
      }
    },
    {
      "cell_type": "code",
      "source": [
        "import pandas as pd\n",
        "\n",
        "# Load the dataset\n",
        "df = pd.read_csv('/content/sample_data/AI workshop2/Titanic-Dataset.csv')\n",
        "\n",
        "# Perform one-hot encoding on the 'Embarked' column\n",
        "embarked_dummies = pd.get_dummies(df['Embarked'], prefix='Embarked')\n",
        "\n",
        "# Concatenate the new one-hot encoded columns with the original DataFrame\n",
        "df_with_embarked = pd.concat([df, embarked_dummies], axis=1)\n",
        "\n",
        "# Drop the original 'Embarked' column\n",
        "df_with_embarked = df_with_embarked.drop('Embarked', axis=1)\n",
        "\n",
        "# Display the first few rows of the updated DataFrame\n",
        "print(df_with_embarked.head())"
      ],
      "metadata": {
        "colab": {
          "base_uri": "https://localhost:8080/"
        },
        "id": "HzqKfwZ4R1Ki",
        "outputId": "b3e354db-b2ef-4a7d-ea26-153e9f6484d8"
      },
      "execution_count": null,
      "outputs": [
        {
          "output_type": "stream",
          "name": "stdout",
          "text": [
            "   PassengerId  Survived  Pclass  \\\n",
            "0            1         0       3   \n",
            "1            2         1       1   \n",
            "2            3         1       3   \n",
            "3            4         1       1   \n",
            "4            5         0       3   \n",
            "\n",
            "                                                Name     Sex   Age  SibSp  \\\n",
            "0                            Braund, Mr. Owen Harris    male  22.0      1   \n",
            "1  Cumings, Mrs. John Bradley (Florence Briggs Th...  female  38.0      1   \n",
            "2                             Heikkinen, Miss. Laina  female  26.0      0   \n",
            "3       Futrelle, Mrs. Jacques Heath (Lily May Peel)  female  35.0      1   \n",
            "4                           Allen, Mr. William Henry    male  35.0      0   \n",
            "\n",
            "   Parch            Ticket     Fare Cabin  Embarked_C  Embarked_Q  Embarked_S  \n",
            "0      0         A/5 21171   7.2500   NaN       False       False        True  \n",
            "1      0          PC 17599  71.2833   C85        True       False       False  \n",
            "2      0  STON/O2. 3101282   7.9250   NaN       False       False        True  \n",
            "3      0            113803  53.1000  C123       False       False        True  \n",
            "4      0            373450   8.0500   NaN       False       False        True  \n"
          ]
        }
      ]
    },
    {
      "cell_type": "markdown",
      "source": [
        "# 4. Print the first few rows of the modified DataFrame to verify the changes."
      ],
      "metadata": {
        "id": "ELK0Ox4eR_ES"
      }
    },
    {
      "cell_type": "code",
      "source": [
        "import pandas as pd\n",
        "\n",
        "# Load the dataset\n",
        "df = pd.read_csv('/content/sample_data/AI workshop2/Titanic-Dataset.csv')\n",
        "\n",
        "# Perform one-hot encoding on the 'Embarked' column\n",
        "embarked_dummies = pd.get_dummies(df['Embarked'], prefix='Embarked')\n",
        "\n",
        "# Concatenate the new one-hot encoded columns with the original DataFrame\n",
        "df_with_embarked = pd.concat([df, embarked_dummies], axis=1)\n",
        "\n",
        "# Drop the original 'Embarked' column\n",
        "df_with_embarked = df_with_embarked.drop('Embarked', axis=1)\n",
        "\n",
        "# Print the first few rows of the modified DataFrame to verify changes\n",
        "print(df_with_embarked.head())"
      ],
      "metadata": {
        "colab": {
          "base_uri": "https://localhost:8080/"
        },
        "id": "u-GREYZnSACE",
        "outputId": "ba9a78f4-762a-4177-b5e9-82246927d95a"
      },
      "execution_count": null,
      "outputs": [
        {
          "output_type": "stream",
          "name": "stdout",
          "text": [
            "   PassengerId  Survived  Pclass  \\\n",
            "0            1         0       3   \n",
            "1            2         1       1   \n",
            "2            3         1       3   \n",
            "3            4         1       1   \n",
            "4            5         0       3   \n",
            "\n",
            "                                                Name     Sex   Age  SibSp  \\\n",
            "0                            Braund, Mr. Owen Harris    male  22.0      1   \n",
            "1  Cumings, Mrs. John Bradley (Florence Briggs Th...  female  38.0      1   \n",
            "2                             Heikkinen, Miss. Laina  female  26.0      0   \n",
            "3       Futrelle, Mrs. Jacques Heath (Lily May Peel)  female  35.0      1   \n",
            "4                           Allen, Mr. William Henry    male  35.0      0   \n",
            "\n",
            "   Parch            Ticket     Fare Cabin  Embarked_C  Embarked_Q  Embarked_S  \n",
            "0      0         A/5 21171   7.2500   NaN       False       False        True  \n",
            "1      0          PC 17599  71.2833   C85        True       False       False  \n",
            "2      0  STON/O2. 3101282   7.9250   NaN       False       False        True  \n",
            "3      0            113803  53.1000  C123       False       False        True  \n",
            "4      0            373450   8.0500   NaN       False       False        True  \n"
          ]
        }
      ]
    },
    {
      "cell_type": "markdown",
      "source": [
        "# Problem- 4:\n",
        "\n",
        "# Compare the mean survival rates (’Survived’) for the different groups in the ’Sex’ column. Draw a visual\n",
        "# ization to show how the survival distributions vary by gender."
      ],
      "metadata": {
        "id": "QbK_jCw-TuWE"
      }
    },
    {
      "cell_type": "code",
      "source": [
        "import pandas as pd\n",
        "import matplotlib.pyplot as plt\n",
        "\n",
        "# Load the dataset\n",
        "df = pd.read_csv('/content/sample_data/AI workshop2/Titanic-Dataset.csv')\n",
        "\n",
        "# Calculate mean survival rates by gender\n",
        "mean_survival_by_sex = df.groupby('Sex')['Survived'].mean()\n",
        "\n",
        "# Print mean survival rates\n",
        "print(\"Mean Survival Rates by Gender:\")\n",
        "print(mean_survival_by_sex)\n",
        "\n",
        "# Create a bar plot to visualize the survival rates\n",
        "mean_survival_by_sex.plot(kind='bar', color=['blue', 'pink'], alpha=0.7)\n",
        "plt.title('Mean Survival Rates by Gender')\n",
        "plt.xlabel('Gender')\n",
        "plt.ylabel('Mean Survival Rate')\n",
        "plt.xticks(rotation=0)  # Rotate x labels for better readability\n",
        "plt.ylim(0, 1)  # Set y-axis limits from 0 to 1\n",
        "plt.grid(axis='y')  # Add grid lines for better readability\n",
        "plt.show()"
      ],
      "metadata": {
        "colab": {
          "base_uri": "https://localhost:8080/",
          "height": 559
        },
        "id": "WUnUSHzuT0Nn",
        "outputId": "54c196a5-655f-4fa3-a937-9d22c4a144f0"
      },
      "execution_count": null,
      "outputs": [
        {
          "output_type": "stream",
          "name": "stdout",
          "text": [
            "Mean Survival Rates by Gender:\n",
            "Sex\n",
            "female    0.742038\n",
            "male      0.188908\n",
            "Name: Survived, dtype: float64\n"
          ]
        },
        {
          "output_type": "display_data",
          "data": {
            "text/plain": [
              "<Figure size 640x480 with 1 Axes>"
            ],
            "image/png": "[encoded data removed]"
          },
          "metadata": {}
        }
      ]
    },
    {
      "cell_type": "markdown",
      "source": [
        "# Problem- 5:\n",
        "\n",
        "# Draw a visualization that breaks your visualization from Exercise 3 down by the port of embarkation (’Em\n",
        "# barked’). In this instance, compare the ports ’C’ (Cherbourg), ’Q’ (Queenstown), and ’S’ (Southampton)"
      ],
      "metadata": {
        "id": "JvdbX776UY7c"
      }
    },
    {
      "cell_type": "code",
      "source": [
        "import pandas as pd\n",
        "import matplotlib.pyplot as plt\n",
        "\n",
        "# Load the dataset\n",
        "df = pd.read_csv('/content/sample_data/AI workshop2/Titanic-Dataset.csv')\n",
        "\n",
        "# Calculate mean survival rates by port of embarkation\n",
        "mean_survival_by_port = df.groupby('Embarked')['Survived'].mean()\n",
        "\n",
        "# Print mean survival rates\n",
        "print(\"Mean Survival Rates by Port of Embarkation:\")\n",
        "print(mean_survival_by_port)\n",
        "\n",
        "# Create a bar plot to visualize the survival rates by port\n",
        "mean_survival_by_port.plot(kind='bar', color=['lightblue', 'lightgreen', 'salmon'], alpha=0.7)\n",
        "plt.title('Mean Survival Rates by Port of Embarkation')\n",
        "plt.xlabel('Port of Embarkation')\n",
        "plt.ylabel('Mean Survival Rate')\n",
        "plt.xticks(ticks=[0, 1, 2], labels=['Cherbourg (C)', 'Queenstown (Q)', 'Southampton (S)'], rotation=0)\n",
        "plt.ylim(0, 1)  # Set y-axis limits from 0 to 1\n",
        "plt.grid(axis='y')  # Add grid lines for better readability\n",
        "plt.show()"
      ],
      "metadata": {
        "colab": {
          "base_uri": "https://localhost:8080/",
          "height": 576
        },
        "id": "gBGtyXwHUc8L",
        "outputId": "6a54856c-1eb9-4865-cc57-880607aa2b56"
      },
      "execution_count": null,
      "outputs": [
        {
          "output_type": "stream",
          "name": "stdout",
          "text": [
            "Mean Survival Rates by Port of Embarkation:\n",
            "Embarked\n",
            "C    0.553571\n",
            "Q    0.389610\n",
            "S    0.336957\n",
            "Name: Survived, dtype: float64\n"
          ]
        },
        {
          "output_type": "display_data",
          "data": {
            "text/plain": [
              "<Figure size 640x480 with 1 Axes>"
            ],
            "image/png": "[encoded data removed]"
          },
          "metadata": {}
        }
      ]
    },
    {
      "cell_type": "markdown",
      "source": [
        "# Problem- 6{Optional}:\n",
        "\n",
        "# Show how the survival rates (’Survived’) vary by age group and passenger class (’Pclass’). Break up the\n",
        "# ’Age’ column into five quantiles in your DataFrame, and then compare the means of ’Survived’ by class\n",
        "# and age group. Draw a visualization using a any plotting library to represent this graphically."
      ],
      "metadata": {
        "id": "ff6XK2kjU3Jf"
      }
    },
    {
      "cell_type": "code",
      "source": [
        "import pandas as pd\n",
        "import matplotlib.pyplot as plt\n",
        "\n",
        "\n"
      ],
      "metadata": {
        "id": "Z3y5yfpsU6Vc"
      },
      "execution_count": 48,
      "outputs": []
    }
  ],
  "metadata": {
    "colab": {
      "provenance": []
    },
    "kernelspec": {
      "display_name": "Python 3",
      "name": "python3"
    },
    "language_info": {
      "name": "python"
    }
  },
  "nbformat": 4,
  "nbformat_minor": 0
}