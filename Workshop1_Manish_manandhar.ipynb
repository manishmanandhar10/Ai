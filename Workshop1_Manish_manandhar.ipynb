{
  "nbformat": 4,
  "nbformat_minor": 0,
  "metadata": {
    "colab": {
      "provenance": []
    },
    "kernelspec": {
      "name": "python3",
      "display_name": "Python 3"
    },
    "language_info": {
      "name": "python"
    }
  },
  "cells": [
    {
      "cell_type": "markdown",
      "source": [
        "4.1 Warming Up Exercise: Basic Vector and Matrix Operation with Numpy.\n",
        "Problem - 1: Array Creation:\n",
        "\n",
        "1.Initialize an empty array with size 2X2."
      ],
      "metadata": {
        "id": "l74gvtTSKyFP"
      }
    },
    {
      "cell_type": "code",
      "source": [
        "import numpy as np\n",
        "empty_array = np.empty((2, 2))\n",
        "print(\"Empty Array (2x2):\\n\", empty_array)\n"
      ],
      "metadata": {
        "id": "vND0pJ4HOVjf",
        "colab": {
          "base_uri": "https://localhost:8080/"
        },
        "outputId": "3a07e686-f3d8-4206-b83d-d5f21ac4626a"
      },
      "execution_count": null,
      "outputs": [
        {
          "output_type": "stream",
          "name": "stdout",
          "text": [
            "Empty Array (2x2):\n",
            " [[4.68115255e-310 0.00000000e+000]\n",
            " [2.84571044e+140 6.52041948e-310]]\n"
          ]
        }
      ]
    },
    {
      "cell_type": "markdown",
      "source": [
        "2.Initialize an all one array with size 4X2."
      ],
      "metadata": {
        "id": "bMduHqyGQiZv"
      }
    },
    {
      "cell_type": "code",
      "source": [
        "import numpy as np\n",
        "\n",
        "array = np.ones((4, 2))\n",
        "print(array)\n"
      ],
      "metadata": {
        "colab": {
          "base_uri": "https://localhost:8080/"
        },
        "id": "A5Kz26lXQmOw",
        "outputId": "dbc512c2-af95-45b2-c03f-685f86961e4c"
      },
      "execution_count": null,
      "outputs": [
        {
          "output_type": "stream",
          "name": "stdout",
          "text": [
            "[[1. 1.]\n",
            " [1. 1.]\n",
            " [1. 1.]\n",
            " [1. 1.]]\n"
          ]
        }
      ]
    },
    {
      "cell_type": "markdown",
      "source": [
        "3. Return a new array of given shape and type, filled with fill value.{Hint: np.full}"
      ],
      "metadata": {
        "id": "6z9iAhbB9IqM"
      }
    },
    {
      "cell_type": "code",
      "source": [
        "import numpy as np\n",
        "\n",
        "fill_value = 4\n",
        "new_array = np.full((3,3),fill_value)\n",
        "print(\"New array:\\n\", new_array)"
      ],
      "metadata": {
        "colab": {
          "base_uri": "https://localhost:8080/"
        },
        "id": "TNu31Okt9KK1",
        "outputId": "499a42e5-1600-43f3-8e19-d1e8fa14da84"
      },
      "execution_count": null,
      "outputs": [
        {
          "output_type": "stream",
          "name": "stdout",
          "text": [
            "New array:\n",
            " [[4 4 4]\n",
            " [4 4 4]\n",
            " [4 4 4]]\n"
          ]
        }
      ]
    },
    {
      "cell_type": "markdown",
      "source": [
        " 4. Return a new array of zeros with same shape and type as a given array.{Hint: np.zeros like}"
      ],
      "metadata": {
        "id": "9h2vWk7m-oA3"
      }
    },
    {
      "cell_type": "code",
      "source": [
        "import numpy as np\n",
        "\n",
        "reference_array = np.array([[9, 8], [4, 8]])\n",
        "new_array = np.zeros_like(reference_array)\n",
        "print(\"New Array:\\n\", new_array)"
      ],
      "metadata": {
        "colab": {
          "base_uri": "https://localhost:8080/"
        },
        "id": "eCD9ma-I-opN",
        "outputId": "b8ba0672-2037-48b6-fc51-74a6a6b3716f"
      },
      "execution_count": null,
      "outputs": [
        {
          "output_type": "stream",
          "name": "stdout",
          "text": [
            "New Array:\n",
            " [[0 0]\n",
            " [0 0]]\n"
          ]
        }
      ]
    },
    {
      "cell_type": "markdown",
      "source": [
        " 5. Return a new array of ones with same shape and type as a given array.{Hint: np.ones like}"
      ],
      "metadata": {
        "id": "nuvMH4L7AER8"
      }
    },
    {
      "cell_type": "code",
      "source": [
        "import numpy as np\n",
        "\n",
        "reference_array = np.array([[1,2],[3,4]])\n",
        "new_array = np.ones_like(reference_array)\n",
        "print(\"new array:\\n\", new_array)"
      ],
      "metadata": {
        "colab": {
          "base_uri": "https://localhost:8080/"
        },
        "id": "q9AiXg69CCRF",
        "outputId": "305ce85b-0146-45e8-8d5a-2976a35c7977"
      },
      "execution_count": null,
      "outputs": [
        {
          "output_type": "stream",
          "name": "stdout",
          "text": [
            "new array:\n",
            " [[1 1]\n",
            " [1 1]]\n"
          ]
        }
      ]
    },
    {
      "cell_type": "markdown",
      "source": [
        " 6. For an existing list new_list = [1,2,3,4] convert to an numpy array.{Hint: np.array()}"
      ],
      "metadata": {
        "id": "BbpoGPJTCQXQ"
      }
    },
    {
      "cell_type": "code",
      "source": [
        "import numpy as np\n",
        "\n",
        "new_list = [1,2,3,4]\n",
        "numpy_array = np.array(new_list)\n",
        "print(\"numpy array:\\n\", numpy_array)"
      ],
      "metadata": {
        "colab": {
          "base_uri": "https://localhost:8080/"
        },
        "id": "G4XtLcnjCQ0S",
        "outputId": "ebbaf459-d24a-43f7-854b-e5cb4b5f81e1"
      },
      "execution_count": null,
      "outputs": [
        {
          "output_type": "stream",
          "name": "stdout",
          "text": [
            "numpy array:\n",
            " [1 2 3 4]\n"
          ]
        }
      ]
    },
    {
      "cell_type": "markdown",
      "source": [
        "4.1.1 Problem- 2: Array Manipulation: Numerical Ranges and Array indexing:\n",
        " Complete the following tasks:"
      ],
      "metadata": {
        "id": "oYaZXqRWDXno"
      }
    },
    {
      "cell_type": "markdown",
      "source": [
        "1. Create an array with values ranging from 10 to 49. {Hint:np.arrange()}."
      ],
      "metadata": {
        "id": "4VjXYGMPDYxh"
      }
    },
    {
      "cell_type": "code",
      "source": [
        "import numpy as np\n",
        "\n",
        "new_array = np.arange(10 , 50)\n",
        "print(new_array)\n"
      ],
      "metadata": {
        "colab": {
          "base_uri": "https://localhost:8080/"
        },
        "id": "Sqox7KmrDnFw",
        "outputId": "2a8651ee-a076-4afc-b843-61e41bcf825d"
      },
      "execution_count": null,
      "outputs": [
        {
          "output_type": "stream",
          "name": "stdout",
          "text": [
            "[10 11 12 13 14 15 16 17 18 19 20 21 22 23 24 25 26 27 28 29 30 31 32 33\n",
            " 34 35 36 37 38 39 40 41 42 43 44 45 46 47 48 49]\n"
          ]
        }
      ]
    },
    {
      "cell_type": "markdown",
      "source": [
        "2. Create a 3X3 matrix with values ranging from 0 to 8.\n",
        " {Hint:look for np.reshape()}"
      ],
      "metadata": {
        "id": "JPbo7qPeEWMz"
      }
    },
    {
      "cell_type": "code",
      "source": [
        "import numpy as np\n",
        "\n",
        "matrix = np.arange(9). reshape(3,3)\n",
        "print(\"3*3 matrix=\\n\",matrix)\n"
      ],
      "metadata": {
        "colab": {
          "base_uri": "https://localhost:8080/"
        },
        "id": "yzTb-z1DEWtQ",
        "outputId": "adc84f65-5f0b-44ea-de0b-f440e9938bd7"
      },
      "execution_count": null,
      "outputs": [
        {
          "output_type": "stream",
          "name": "stdout",
          "text": [
            "3*3 matrix=\n",
            " [[0 1 2]\n",
            " [3 4 5]\n",
            " [6 7 8]]\n"
          ]
        }
      ]
    },
    {
      "cell_type": "markdown",
      "source": [
        "3.Create a 3X3 identity matrix.{Hint:np.eye()}"
      ],
      "metadata": {
        "id": "4RcndnSsF97P"
      }
    },
    {
      "cell_type": "code",
      "source": [
        "import numpy as np\n",
        "\n",
        "array = np.eye(3)\n",
        "print(\"3*3 Identity matrix= \\n\", array)"
      ],
      "metadata": {
        "colab": {
          "base_uri": "https://localhost:8080/"
        },
        "id": "-RjgTf9VGiJt",
        "outputId": "995b6134-4cb8-484a-cfdb-60c5d2acb8b3"
      },
      "execution_count": null,
      "outputs": [
        {
          "output_type": "stream",
          "name": "stdout",
          "text": [
            "3*3 Identity matrix= \n",
            " [[1. 0. 0.]\n",
            " [0. 1. 0.]\n",
            " [0. 0. 1.]]\n"
          ]
        }
      ]
    },
    {
      "cell_type": "markdown",
      "source": [
        "4. Create a random array of size 30 and find the mean of the array.\n",
        " {Hint:check for np.random.random() and array.mean() function}"
      ],
      "metadata": {
        "id": "zVP95eU7HOE2"
      }
    },
    {
      "cell_type": "code",
      "source": [
        "import numpy as np\n",
        "\n",
        "random_array = np.random.random(30)\n",
        "# array_mean = random_array.mean()\n",
        "array_mean = np.mean(random_array)\n",
        "print(\"Random array of size 30=\\n\",random_array)\n",
        "print(\"mean of array = \\n\", array_mean)"
      ],
      "metadata": {
        "colab": {
          "base_uri": "https://localhost:8080/"
        },
        "id": "A-C8Ui28HOov",
        "outputId": "982ac116-c5b2-4313-e294-fc1c9d9918a7"
      },
      "execution_count": null,
      "outputs": [
        {
          "output_type": "stream",
          "name": "stdout",
          "text": [
            "Random array of size 30=\n",
            " [0.17955057 0.56119282 0.60868433 0.1631042  0.67995077 0.19381041\n",
            " 0.53527391 0.75529216 0.84052923 0.1176315  0.40564949 0.5222299\n",
            " 0.51482153 0.94714619 0.54435818 0.40241154 0.77351753 0.61091542\n",
            " 0.92310041 0.31369146 0.94497805 0.40551591 0.94135893 0.08414529\n",
            " 0.38597667 0.67579019 0.74439571 0.68093866 0.50923364 0.56654592]\n",
            "mean of array = \n",
            " 0.5510580169804865\n"
          ]
        }
      ]
    },
    {
      "cell_type": "markdown",
      "source": [
        "5.Create a 10X10 array with random values and find the minimum and maximum values."
      ],
      "metadata": {
        "id": "3W4NKpn7IwKh"
      }
    },
    {
      "cell_type": "code",
      "source": [
        "import numpy as np\n",
        "\n",
        "random_array = np.random.rand(10, 10)\n",
        "\n",
        "min_value = np.min(random_array)\n",
        "max_value = np.max(random_array)\n",
        "\n",
        "print(\"Random 10x10 Array:\",random_array)\n",
        "print(\"\\nMinimum Value:\", min_value)\n",
        "print(\"Maximum Value:\", max_value)"
      ],
      "metadata": {
        "colab": {
          "base_uri": "https://localhost:8080/"
        },
        "id": "khNw5YCPI1qJ",
        "outputId": "ff03d209-a633-472e-b465-32a784ea333f"
      },
      "execution_count": null,
      "outputs": [
        {
          "output_type": "stream",
          "name": "stdout",
          "text": [
            "Random 10x10 Array: [[0.62206856 0.65260393 0.07716899 0.52190893 0.18048366 0.02676537\n",
            "  0.93725038 0.61941992 0.10375846 0.64378573]\n",
            " [0.63059081 0.43190762 0.73734387 0.82541896 0.18835925 0.30879916\n",
            "  0.57314414 0.0880603  0.8477577  0.72176556]\n",
            " [0.80843695 0.19511599 0.01538362 0.75751414 0.98391681 0.22356206\n",
            "  0.69310432 0.16934262 0.57407779 0.4539815 ]\n",
            " [0.93847943 0.18436254 0.82011165 0.11940471 0.34129999 0.63929904\n",
            "  0.38889685 0.64033628 0.6743421  0.90556659]\n",
            " [0.36695193 0.40346602 0.52426519 0.82909887 0.83878878 0.64525912\n",
            "  0.86376356 0.42887829 0.10348631 0.52772916]\n",
            " [0.77876083 0.12537837 0.78509273 0.31276094 0.37550178 0.53670048\n",
            "  0.41153875 0.51880407 0.54316662 0.23442984]\n",
            " [0.25611629 0.52307092 0.90063128 0.07382488 0.71918996 0.08122483\n",
            "  0.30934702 0.30515596 0.32637757 0.48534344]\n",
            " [0.18778239 0.34110067 0.39778594 0.26478765 0.41290528 0.45704889\n",
            "  0.79728303 0.56689268 0.51013313 0.01706274]\n",
            " [0.76615029 0.11926654 0.11697466 0.63057391 0.23867122 0.32866833\n",
            "  0.88667249 0.091405   0.73388646 0.32039077]\n",
            " [0.66954129 0.77292586 0.30084641 0.36275956 0.70308866 0.39998941\n",
            "  0.60853038 0.3885593  0.87775286 0.6346579 ]]\n",
            "\n",
            "Minimum Value: 0.015383616658541266\n",
            "Maximum Value: 0.9839168064338004\n"
          ]
        }
      ]
    },
    {
      "cell_type": "markdown",
      "source": [
        "6.Create a zero array of size 10 and replace 5th element with 1"
      ],
      "metadata": {
        "id": "6bzdIDZ0Q1hw"
      }
    },
    {
      "cell_type": "code",
      "source": [
        "import numpy as np\n",
        "\n",
        "zero_array = np.zeros(10)\n",
        "zero_array[4] = 1\n",
        "print(\"new array=\\n\", zero_array)"
      ],
      "metadata": {
        "colab": {
          "base_uri": "https://localhost:8080/"
        },
        "id": "NgkMr_CuRBDc",
        "outputId": "b04faa32-7d71-4346-842d-2625d53e0e95"
      },
      "execution_count": null,
      "outputs": [
        {
          "output_type": "stream",
          "name": "stdout",
          "text": [
            "new array=\n",
            " [0. 0. 0. 0. 1. 0. 0. 0. 0. 0.]\n"
          ]
        }
      ]
    },
    {
      "cell_type": "markdown",
      "source": [
        "7. Reverse an array arr = [1,2,0,0,4,0]."
      ],
      "metadata": {
        "id": "607PdouHTAcN"
      }
    },
    {
      "cell_type": "code",
      "source": [
        "import numpy as np\n",
        "\n",
        "arr = [1,2,0,0,4,0]\n",
        "reversed_array = np.array(arr)[::-1]\n",
        "print(\"reversed array:\\n\", reversed_array)"
      ],
      "metadata": {
        "colab": {
          "base_uri": "https://localhost:8080/"
        },
        "id": "rmaPzmarTBFV",
        "outputId": "19887336-df9d-4bb2-b959-40bb35510fe9"
      },
      "execution_count": null,
      "outputs": [
        {
          "output_type": "stream",
          "name": "stdout",
          "text": [
            "reversed array:\n",
            " [0 4 0 0 2 1]\n"
          ]
        }
      ]
    },
    {
      "cell_type": "markdown",
      "source": [
        " 8. Create a 2d array with 1 on border and 0 inside."
      ],
      "metadata": {
        "id": "cLrtO5BoT3z4"
      }
    },
    {
      "cell_type": "code",
      "source": [
        "import numpy as np\n",
        "\n",
        "border_array = np.ones((5, 5))\n",
        "border_array[1:-1, 1:-1] = 0\n",
        "print(\"\\n8. 2D Array with 1 on Border and 0 Inside:\\n\", border_array)"
      ],
      "metadata": {
        "colab": {
          "base_uri": "https://localhost:8080/"
        },
        "id": "KIFTUYK0T7ZI",
        "outputId": "81e8e8b3-3650-4a17-b9bf-83c6dba001d9"
      },
      "execution_count": null,
      "outputs": [
        {
          "output_type": "stream",
          "name": "stdout",
          "text": [
            "\n",
            "8. 2D Array with 1 on Border and 0 Inside:\n",
            " [[1. 1. 1. 1. 1.]\n",
            " [1. 0. 0. 0. 1.]\n",
            " [1. 0. 0. 0. 1.]\n",
            " [1. 0. 0. 0. 1.]\n",
            " [1. 1. 1. 1. 1.]]\n"
          ]
        }
      ]
    },
    {
      "cell_type": "markdown",
      "source": [
        " 9. Create a 8X8 matrix and fill it with a checkerboard pattern."
      ],
      "metadata": {
        "id": "Ztcvul9TULe8"
      }
    },
    {
      "cell_type": "code",
      "source": [
        "import numpy as np\n",
        "\n",
        "checkerboard_matrix = np.zeros((8, 8), dtype=int)\n",
        "checkerboard_matrix[1::2, ::2] = 1\n",
        "checkerboard_matrix[::2, 1::2] = 1\n",
        "print(\"\\n9. 8x8 Checkerboard Pattern:\\n\", checkerboard_matrix)"
      ],
      "metadata": {
        "colab": {
          "base_uri": "https://localhost:8080/"
        },
        "id": "TA3UiDhDUL1M",
        "outputId": "fc014776-4e7f-49c4-8492-f1fed9a27435"
      },
      "execution_count": null,
      "outputs": [
        {
          "output_type": "stream",
          "name": "stdout",
          "text": [
            "\n",
            "9. 8x8 Checkerboard Pattern:\n",
            " [[0 1 0 1 0 1 0 1]\n",
            " [1 0 1 0 1 0 1 0]\n",
            " [0 1 0 1 0 1 0 1]\n",
            " [1 0 1 0 1 0 1 0]\n",
            " [0 1 0 1 0 1 0 1]\n",
            " [1 0 1 0 1 0 1 0]\n",
            " [0 1 0 1 0 1 0 1]\n",
            " [1 0 1 0 1 0 1 0]]\n"
          ]
        }
      ]
    },
    {
      "cell_type": "markdown",
      "source": [
        " Problem- 3: Array Operations:\n",
        " For the following arrays:\n",
        " x = np.array([[1,2],[3,5]]) and y = np.array([[5,6],[7,8]]);\n",
        " v = np.array([9,10]) and w = np.array([11,12]);\n",
        " Complete all the task using numpy"
      ],
      "metadata": {
        "id": "muzeKiLhUcpI"
      }
    },
    {
      "cell_type": "markdown",
      "source": [
        " 1. Add the two array.\n",
        " 2. Subtract the two array.\n",
        " 3. Multiply the array with any integers of your choice.\n",
        " 4. Find the square of each element of the array.\n",
        " 5. Find the dot product between: v(and)w ; x(and)v ; x(and)y.\n",
        " 6. Concatenate x(and)y along row and Concatenate v(and)w along column.\n",
        " {Hint:try np.concatenate() or np.vstack() functions.\n",
        " 7. Concatenate x(and)v; if you get an error, observe and explain why did you get the error?"
      ],
      "metadata": {
        "id": "-TuA-Qr7UwTd"
      }
    },
    {
      "cell_type": "code",
      "source": [
        "import numpy as np\n",
        "\n",
        "x = np.array([[1,2],[3,5]])\n",
        "y = np.array([[5,6],[7,8]])\n",
        "v = np.array([9,10])\n",
        "w = np.array([11,12])\n",
        "\n",
        "add_result = x+y\n",
        "print(\"addition=\", add_result)\n",
        "\n",
        "sub_result = x+y\n",
        "print(\"Subtraction=\", sub_result)\n",
        "\n",
        "multiply_result = x * 5\n",
        "print(\"Multiplication=\", multiply_result)\n",
        "\n",
        "square_result = x ** 2\n",
        "print(\"Square Result=\", square_result)\n",
        "\n",
        "dot_vw = np.dot(v,w)\n",
        "dot_xv = np.dot(x, v)\n",
        "dot_xy = np.dot(x, y)\n",
        "print(\"dot profuct of v and w=\",dot_vw )\n",
        "print(\"dot profuct of x and v=\",dot_xv )\n",
        "print(\"dot profuct of x and y=\",dot_xy )\n",
        "\n",
        "concat_xy = np.concatenate((x,y), axis = 1)\n",
        "concat_vw = np.column_stack((v,w))\n",
        "print(\"Concatenation of x and y along rows:\\n\", concat_xy)\n",
        "print(\"Concatenation of v and w along columns:\\n\", concat_vw)\n",
        "\n",
        "try:\n",
        "  concat_xv = np.concatenate((x,v), axis = 0)\n",
        "except ValueError as e:\n",
        "    print(e)"
      ],
      "metadata": {
        "colab": {
          "base_uri": "https://localhost:8080/"
        },
        "id": "vD3cbIRcUw80",
        "outputId": "1638733e-b005-4fa0-a1a2-b1b859b47df9"
      },
      "execution_count": null,
      "outputs": [
        {
          "output_type": "stream",
          "name": "stdout",
          "text": [
            "addition= [[ 6  8]\n",
            " [10 13]]\n",
            "Subtraction= [[ 6  8]\n",
            " [10 13]]\n",
            "Multiplication= [[ 5 10]\n",
            " [15 25]]\n",
            "Square Result= [[ 1  4]\n",
            " [ 9 25]]\n",
            "dot profuct of v and w= 219\n",
            "dot profuct of x and v= [29 77]\n",
            "dot profuct of x and y= [[19 22]\n",
            " [50 58]]\n",
            "Concatenation of x and y along rows:\n",
            " [[1 2 5 6]\n",
            " [3 5 7 8]]\n",
            "Concatenation of v and w along columns:\n",
            " [[ 9 11]\n",
            " [10 12]]\n",
            "all the input arrays must have same number of dimensions, but the array at index 0 has 2 dimension(s) and the array at index 1 has 1 dimension(s)\n"
          ]
        }
      ]
    },
    {
      "cell_type": "markdown",
      "source": [
        "Problem- 4: Matrix Operations:\n",
        " • For the following arrays:\n",
        " A = np.array([[3,4],[7,8]]) and B = np.array([[5,3],[2,1]]);\n",
        " Prove following with Numpy:\n",
        " 1. Prove A.A−1 = I.\n",
        " 2. Prove AB= BA.\n",
        " 3. Prove (AB)T = BTAT.\n",
        " • Solve the following system of Linear equation using Inverse Methods.\n",
        " 2x −3y+z =−1\n",
        " x −y+2z =−3\n",
        " 3x +y−z =9\n",
        " {Hint: First use Numpy array to represent the equation in Matrix form. Then Solve for: AX = B}\n",
        " • Now: solve the above equation using np.linalg.inv function.{Explore more about ”linalg” function\n",
        " of Numpy}"
      ],
      "metadata": {
        "id": "3R0ydycXYPS0"
      }
    },
    {
      "cell_type": "code",
      "source": [
        "import numpy as np\n",
        "\n",
        "A = np.array([[3,4],[7,8]])\n",
        "B = np.array([[5,3],[2,1]])\n",
        "\n",
        "#1. Prove A.A−1 = I.\n",
        "A_inv = np.linalg.inv(A)\n",
        "identity_matrix = np.dot(A, A_inv)\n",
        "print(\"A * A^-1:\\n\", identity_matrix)\n",
        "\n",
        "\n",
        "# 2.Prove AB= BA\n",
        "AB = np.dot(A, B)\n",
        "BA = np.dot(B, A)\n",
        "print(\"AB:\\n\", AB)\n",
        "print(\"BA:\\n\", BA)\n",
        "\n",
        "# 3.Prove (AB)T = BTAT\n",
        "\n",
        "transpose_AB = np.transpose(AB)\n",
        "BT_AT = np.dot(B.T, A.T)\n",
        "print(\"(AB)^T:\\n\", transpose_AB)\n",
        "print(\"B^T * A^T:\\n\", BT_AT)\n",
        "\n",
        "# solving equations\n",
        "coefficients = np.array([[2, -3, 1], [1, -1, 2], [3, 1, -1]])\n",
        "constants = np.array([-1, -3, 9])\n",
        "answer = np.linalg.solve(coefficients, constants)\n",
        "print(\"Solutions for Linear Equations:\\n\", answer)\n"
      ],
      "metadata": {
        "colab": {
          "base_uri": "https://localhost:8080/"
        },
        "id": "yCL7wb67YQCZ",
        "outputId": "94fc8d2a-b176-4b84-c151-d8b0059e67f9"
      },
      "execution_count": null,
      "outputs": [
        {
          "output_type": "stream",
          "name": "stdout",
          "text": [
            "A * A^-1:\n",
            " [[1.00000000e+00 0.00000000e+00]\n",
            " [1.77635684e-15 1.00000000e+00]]\n",
            "AB:\n",
            " [[23 13]\n",
            " [51 29]]\n",
            "BA:\n",
            " [[36 44]\n",
            " [13 16]]\n",
            "(AB)^T:\n",
            " [[23 51]\n",
            " [13 29]]\n",
            "B^T * A^T:\n",
            " [[23 51]\n",
            " [13 29]]\n",
            "Solutions for Linear Equations:\n",
            " [ 2.  1. -2.]\n"
          ]
        }
      ]
    },
    {
      "cell_type": "code",
      "source": [
        "def add_numbers(a, b):\n",
        "    return a + b\n",
        "\n",
        "# Example usage\n",
        "result = add_numbers(5, 3)\n",
        "print(\"result\")"
      ],
      "metadata": {
        "id": "01iM6d0vs4vj",
        "outputId": "9e117a13-ded2-4427-f468-8fba3ba020a9",
        "colab": {
          "base_uri": "https://localhost:8080/"
        }
      },
      "execution_count": null,
      "outputs": [
        {
          "output_type": "stream",
          "name": "stdout",
          "text": [
            "result\n"
          ]
        }
      ]
    }
  ]
}